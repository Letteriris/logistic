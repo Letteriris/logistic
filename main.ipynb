{
 "cells": [
  {
   "cell_type": "markdown",
   "metadata": {},
   "source": [
    "# 一、作业内容"
   ]
  },
  {
   "cell_type": "markdown",
   "metadata": {},
   "source": [
    "基本要求：\n",
    "\n",
    "● 使用sklearn实现logisticl回归\n",
    "\n",
    "● 回归问题：拟合数据： (选取合适的区间)\n",
    "\n",
    "● 分类问题：生成随机样本点，采用标准数据集\n",
    "\n",
    "提高练习：\n",
    "\n",
    "● 尝试使用spicy.optimize中的优化算法训练logistic regression并与sklearn比较\n",
    "\n",
    "● 尝试手动实现梯度下降"
   ]
  },
  {
   "cell_type": "markdown",
   "metadata": {},
   "source": [
    "# 二、代码"
   ]
  },
  {
   "cell_type": "code",
   "execution_count": 3,
   "metadata": {},
   "outputs": [
    {
     "name": "stdout",
     "output_type": "stream",
     "text": [
      "[1 2 2 0 1 0 1 0 1 0 1 0 0 2 0 2 2 1 2 1 1 0 1 0 0 1 2 2 1 2 2 1 0 2 0 2 1\n",
      " 1 0 1 2 0 0 1 1]\n",
      "[1 2 2 0 1 0 1 0 1 0 1 0 0 2 0 2 2 1 2 1 1 0 1 0 0 1 2 2 1 2 2 1 0 2 0 1 1\n",
      " 1 0 1 2 0 0 1 1]\n",
      "0.9777777777777777\n"
     ]
    }
   ],
   "source": [
    "from sklearn import datasets\n",
    "from sklearn.model_selection import train_test_split\n",
    "from sklearn.neighbors import KNeighborsClassifier\n",
    "from sklearn.metrics import accuracy_score\n",
    "iris=datasets.load_iris()\n",
    "iris_X=iris.data\n",
    "iris_Y=iris.target\n",
    "\n",
    "X_train,X_test,Y_train,Y_test=train_test_split(iris_X,iris_Y,test_size=0.3)\n",
    "knn=KNeighborsClassifier()\n",
    "knn.fit(X_train,Y_train)\n",
    "print(knn.predict(X_test))\n",
    "print(Y_test)\n",
    "print(accuracy_score(knn.predict(X_test), Y_test))"
   ]
  },
  {
   "cell_type": "markdown",
   "metadata": {},
   "source": [
    "# 三、总结"
   ]
  },
  {
   "cell_type": "markdown",
   "metadata": {},
   "source": [
    "一头雾水，了解了sklearn库"
   ]
  }
 ],
 "metadata": {
  "kernelspec": {
   "display_name": "Python 3",
   "language": "python",
   "name": "python3"
  },
  "language_info": {
   "codemirror_mode": {
    "name": "ipython",
    "version": 3
   },
   "file_extension": ".py",
   "mimetype": "text/x-python",
   "name": "python",
   "nbconvert_exporter": "python",
   "pygments_lexer": "ipython3",
   "version": "3.7.3"
  }
 },
 "nbformat": 4,
 "nbformat_minor": 2
}
